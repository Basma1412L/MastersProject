version https://git-lfs.github.com/spec/v1
oid sha256:4525d7ef852a89d11192d9221ff5756d733c8a34977e62872cbbaf9944bd2261
size 518425
